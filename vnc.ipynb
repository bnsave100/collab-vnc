{
  "nbformat": 4,
  "nbformat_minor": 0,
  "metadata": {
    "colab": {
      "name": "vnc.ipynb",
      "provenance": [],
      "collapsed_sections": [],
      "authorship_tag": "ABX9TyPi7pm5BgADHuqm9L6s+sVf",
      "include_colab_link": true
    },
    "kernelspec": {
      "name": "python3",
      "display_name": "Python 3"
    }
  },
  "cells": [
    {
      "cell_type": "markdown",
      "metadata": {
        "id": "view-in-github",
        "colab_type": "text"
      },
      "source": [
        "<a href=\"https://colab.research.google.com/github/rif2d/collab-vnc/blob/master/vnc.ipynb\" target=\"_parent\"><img src=\"https://colab.research.google.com/assets/colab-badge.svg\" alt=\"Open In Colab\"/></a>"
      ]
    },
    {
      "cell_type": "code",
      "metadata": {
        "id": "WynQ1GXgxBsK",
        "colab_type": "code",
        "colab": {}
      },
      "source": [
        "%env NGROK_TOKEN=MY_NGROK_TOKEN\n",
        "%env VNC_PASSWD=VNC123\n",
        "%env VNC_RESOLUTION=1280x800"
      ],
      "execution_count": null,
      "outputs": []
    },
    {
      "cell_type": "code",
      "metadata": {
        "id": "4Y7UCs7kEjb-",
        "colab_type": "code",
        "colab": {}
      },
      "source": [
        "%%bash\n",
        "apt update -qq > /dev/null 2>&1\n",
        "apt install -qq lxqt tightvncserver tmux jq > /dev/null 2>&1"
      ],
      "execution_count": null,
      "outputs": []
    },
    {
      "cell_type": "code",
      "metadata": {
        "id": "JK1-UeALFzeR",
        "colab_type": "code",
        "colab": {}
      },
      "source": [
        "%%bash\n",
        "curl -sLo ngrok.zip https://bin.equinox.io/c/4VmDzA7iaHb/ngrok-stable-linux-amd64.zip\n",
        "unzip -q ngrok.zip\n",
        "rm ngrok.zip\n",
        "mv ngrok /usr/local/bin"
      ],
      "execution_count": null,
      "outputs": []
    },
    {
      "cell_type": "code",
      "metadata": {
        "id": "4gB4sv_16oxw",
        "colab_type": "code",
        "colab": {}
      },
      "source": [
        "%%bash\n",
        "export USER=root\n",
        "umask 077\n",
        "mkdir -p ~/.vnc\n",
        "echo $VNC_PASSWD | vncpasswd -f > ~/.vnc/passwd\n",
        "vncserver -kill :1 | vncserver -geometry $VNC_RESOLUTION"
      ],
      "execution_count": null,
      "outputs": []
    },
    {
      "cell_type": "code",
      "metadata": {
        "id": "gJH_UmIW8Pzk",
        "colab_type": "code",
        "colab": {}
      },
      "source": [
        "!tmux new-session -d ngrok tcp 5901 --authtoken $NGROK_TOKEN --region ap"
      ],
      "execution_count": null,
      "outputs": []
    },
    {
      "cell_type": "code",
      "metadata": {
        "id": "6UQ9pxt4hf8J",
        "colab_type": "code",
        "colab": {}
      },
      "source": [
        "!curl -s localhost:4040/api/tunnels/command_line | jq -r '.public_url'"
      ],
      "execution_count": null,
      "outputs": []
    }
  ]
}